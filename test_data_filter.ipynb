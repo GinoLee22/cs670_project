{
 "cells": [
  {
   "cell_type": "code",
   "execution_count": 3,
   "metadata": {
    "collapsed": false
   },
   "outputs": [
    {
     "name": "stdout",
     "output_type": "stream",
     "text": [
      "253093\n",
      "253093\n",
      "21752\n",
      "12540\n",
      "1st part done\n"
     ]
    }
   ],
   "source": [
    "## this file is designed for examing data filtering\n",
    "# purpose: filter the user with < 5 reviews\n",
    "#          filter the restaurant with < 5 reviews\n",
    "from nltk.stem.porter import PorterStemmer\n",
    "import json\n",
    "import re\n",
    "import math\n",
    "from numpy import *\n",
    "import numpy as np\n",
    "import matplotlib.pyplot as plt\n",
    "\n",
    "## 1. get the number of users & items in training data\n",
    "# get the size of user_id & business_id\n",
    "user_id = []\n",
    "business_id = []\n",
    "with open('yelp_data/refine_training_set.json') as f:\n",
    "    for line in f:\n",
    "        temp = json.loads(line)        \n",
    "        user_id.append(temp[\"user_id\"])\n",
    "        business_id.append(temp[\"business_id\"])\n",
    "        \n",
    "print user_id.__len__()\n",
    "print business_id.__len__()\n",
    "\n",
    "# This is without duplication: set\n",
    "user_id = set(user_id)\n",
    "business_id = set(business_id)\n",
    "\n",
    "print user_id.__len__()\n",
    "print business_id.__len__()\n",
    "print \"1st part done\""
   ]
  },
  {
   "cell_type": "code",
   "execution_count": 4,
   "metadata": {
    "collapsed": false
   },
   "outputs": [
    {
     "name": "stdout",
     "output_type": "stream",
     "text": [
      "2nd part done\n"
     ]
    }
   ],
   "source": [
    "## 2. add the \"star\" into the dictionary\n",
    "# initialize the dictionary:\n",
    "#   user_bias_list = {user_id --> a list of scores}\n",
    "#   business_bias_list = {business_id --> a list of scores}\n",
    "average = 0\n",
    "num_star = 0\n",
    "user_bias_list = {}\n",
    "business_bias_list = {}\n",
    "for user_key in user_id:\n",
    "    user_bias_list[user_key] = []\n",
    "for business_key in business_id:\n",
    "    business_bias_list[business_key] = []\n",
    "\n",
    "# appending the list\n",
    "with open('yelp_data/refine_training_set.json') as f:\n",
    "    for line in f:\n",
    "        # get the infor from file\n",
    "        temp = json.loads(line)        \n",
    "        cur_user_id = temp[\"user_id\"]\n",
    "        cur_business_id = temp[\"business_id\"]\n",
    "        star = temp[\"stars\"]\n",
    "        # filling the dictionary & calculate the average\n",
    "        user_bias_list[cur_user_id].append(star)\n",
    "        business_bias_list[cur_business_id].append(star)\n",
    "    \n",
    "print \"2nd part done\""
   ]
  },
  {
   "cell_type": "code",
   "execution_count": 8,
   "metadata": {
    "collapsed": false
   },
   "outputs": [
    {
     "name": "stdout",
     "output_type": "stream",
     "text": [
      "18714\n",
      "8046\n",
      "all done\n"
     ]
    }
   ],
   "source": [
    "## 3. get the list length of user_bias_list & business_bias_list\n",
    "beyond_num_user = 0\n",
    "beyond_num_business = 0\n",
    "for key in user_bias_list:\n",
    "    if user_bias_list[key].__len__() > 5:\n",
    "        beyond_num_user += 1\n",
    "for key in business_bias_list:\n",
    "    if business_bias_list[key].__len__() > 5:\n",
    "        beyond_num_business += 1\n",
    "print beyond_num_user\n",
    "print beyond_num_business\n",
    "print \"all done\""
   ]
  },
  {
   "cell_type": "code",
   "execution_count": null,
   "metadata": {
    "collapsed": true
   },
   "outputs": [],
   "source": []
  }
 ],
 "metadata": {
  "kernelspec": {
   "display_name": "Python 2",
   "language": "python",
   "name": "python2"
  },
  "language_info": {
   "codemirror_mode": {
    "name": "ipython",
    "version": 2
   },
   "file_extension": ".py",
   "mimetype": "text/x-python",
   "name": "python",
   "nbconvert_exporter": "python",
   "pygments_lexer": "ipython2",
   "version": "2.7.13"
  }
 },
 "nbformat": 4,
 "nbformat_minor": 2
}
