{
 "cells": [
  {
   "cell_type": "markdown",
   "metadata": {},
   "source": [
    "<h5 style=\"color:red\">You don't have to run this part to do the clustering. All generated files are uploaded to Google Drive.</h5>\n",
    "# Step 0: \n",
    "To cluster the restaurants, we plan to cluster the categories first. \n",
    "Word2vec was created by a team of researchers led by Tomas Mikolov at Google. Word2vec has a lot of advantages over former algorithms, such as Latent Semantic Analysis.\n",
    "To train this model, download some data from: http://mattmahoney.net/dc/text8.zip.\n",
    "# Word2vec"
   ]
  },
  {
   "cell_type": "code",
   "execution_count": 1,
   "metadata": {
    "collapsed": false
   },
   "outputs": [
    {
     "name": "stdout",
     "output_type": "stream",
     "text": [
      "Starting training using file /Users/diedying/Downloads/text8\n",
      "Vocab size: 71291\n",
      "Words in train file: 16718843\n",
      "Alpha: 0.000002  Progress: 100.04%  Words/thread/sec: 277.20k  "
     ]
    }
   ],
   "source": [
    "import word2vec\n",
    "import os \n",
    "import json\n",
    "import re\n",
    "import numpy as np\n",
    "word2vec.word2clusters('/Users/diedying/Downloads/text8', '/Users/diedying/Downloads/text8-clusters.txt', 10, verbose=True)\n",
    "# text8 is an execution file downloaded from the sample of the word2vec link; it is used to trian the words; \n",
    "# word2clusters writes the file \"text8-clusters.txt\" with the clusters of words in the trainning doc;\n",
    "# 10 is the number of clusters.\n",
    "clusters = word2vec.load_clusters('/Users/diedying/Downloads/text8-clusters.txt')\n",
    "# clusters is a WordClusters class object; the keys are the words; the values are the # of cluster that it belongs to."
   ]
  },
  {
   "cell_type": "markdown",
   "metadata": {},
   "source": [
    "# Cluster Example"
   ]
  },
  {
   "cell_type": "code",
   "execution_count": 4,
   "metadata": {
    "collapsed": false
   },
   "outputs": [
    {
     "name": "stdout",
     "output_type": "stream",
     "text": [
      "7\n"
     ]
    }
   ],
   "source": [
    "print clusters['dog']"
   ]
  },
  {
   "cell_type": "markdown",
   "metadata": {},
   "source": [
    "# Step 1: To get the list of all unique restaurants"
   ]
  },
  {
   "cell_type": "code",
   "execution_count": 86,
   "metadata": {
    "collapsed": false
   },
   "outputs": [],
   "source": [
    "path=os.getcwd()\n",
    "user_id = []\n",
    "business_id = []\n",
    "index = 0\n",
    "with open(path+'/training_at5.json') as f:\n",
    "    for line in f:\n",
    "        temp = json.loads(line)        \n",
    "        business_id.append(temp[\"business_id\"])\n",
    "#training_at5 is the review file that has been filtered before.      \n",
    "# This is without duplication: set\n",
    "business_id = set(business_id)\n",
    "# business_id is the list of all unique resaurants show up in trainning_at5.\n",
    "outfile = open(path+'/out.json','w')\n",
    "with open(path+'/yelp_academic_dataset_business.json') as f:\n",
    "    for line in f:\n",
    "        business = json.loads(line)[\"business_id\"] \n",
    "        if business in business_id:\n",
    "            outfile.write(line)\n",
    "# out.json stores all the business ids of the restaurants we are interested in."
   ]
  },
  {
   "cell_type": "markdown",
   "metadata": {},
   "source": [
    "\n",
    "There are 255833 reviews to be analyed. There are 12726 unique restaurants in total."
   ]
  },
  {
   "cell_type": "markdown",
   "metadata": {},
   "source": [
    "# Step 2: Cluster the restaurants\n",
    "According to the categories of restaurants, cluster them into 10 clusters."
   ]
  },
  {
   "cell_type": "code",
   "execution_count": 11,
   "metadata": {
    "collapsed": false
   },
   "outputs": [
    {
     "name": "stdout",
     "output_type": "stream",
     "text": [
      "12724\n",
      "[5, 8, 8, 2]\n"
     ]
    }
   ],
   "source": [
    "def loadpr1():\n",
    "    dicList={}\n",
    "    for line in open(path+'/out.json'):\n",
    "        bid=json.loads(line)['business_id']\n",
    "        bcat=json.loads(line)['categories']\n",
    "        dicList[bid]=bcat\n",
    "    return dicList\n",
    "wordscluster={}#number of words in clusters\n",
    "dict1=loadpr1()\n",
    "#dict1 is a dictionary, its keys are the business id, the values are the strings of categories.\n",
    "categories={}#bid=>cate\n",
    "cluster={}#bid=>cluster\n",
    "with open('/Users/diedying/Downloads/text8-clusters.txt') as f:\n",
    "    for line in f:\n",
    "        (key,val)= line.split()\n",
    "        wordscluster[key] = int(val)\n",
    "# wordscluster is a dictionary, its keys are the words, the values are the # of cluster.\n",
    "count=0\n",
    "for busid in dict1:\n",
    "    wordarray=[]\n",
    "    clusterarray=[]\n",
    "    arrays=dict1[busid]\n",
    "    if arrays is None:\n",
    "        count=count+1\n",
    "        continue\n",
    "    for words in arrays:\n",
    "        add=re.findall('\\w+',words)\n",
    "        for word in add:\n",
    "            word = word.lower()\n",
    "            if (word not in wordarray and word in wordscluster):\n",
    "                wordarray.append(word)\n",
    "                clusterarray.append(wordscluster[word])\n",
    "    categories[busid]=wordarray\n",
    "    cluster[busid]=clusterarray\n",
    "# categories is a dictionary, it keys are the business ids, its values are the unique words of its categories.\n",
    "# cluster is a dictionary, it keys are the business ids, its values are the #s of clusters its categories belong to.\n",
    "# print len(categories)\n",
    "print len(cluster)\n",
    "print cluster[\"2koVk44qPX7mV8irHO_e3A\"]"
   ]
  },
  {
   "cell_type": "markdown",
   "metadata": {},
   "source": [
    "There are two restaurants whose categories don't shown in any clusters. Ignore them."
   ]
  },
  {
   "cell_type": "code",
   "execution_count": 89,
   "metadata": {
    "collapsed": false,
    "scrolled": true
   },
   "outputs": [
    {
     "data": {
      "image/png": "[encoded data removed]",
      "text/plain": [
       "<matplotlib.figure.Figure at 0x111058d50>"
      ]
     },
     "metadata": {},
     "output_type": "display_data"
    }
   ],
   "source": [
    "clustertores={}\n",
    "for restid in cluster:\n",
    "    clusternums=cluster[restid]\n",
    "    for nums in clusternums:\n",
    "        if (nums in clustertores) and (restid not in clustertores[nums]):\n",
    "            clustertores[nums].append(restid)\n",
    "        if nums not in clustertores:\n",
    "            clustertores[nums]=[restid]  \n",
    "# clustertores is a dictionary, its keys are #s of clusters, its values are the business ids of the restaurants that have the category belongs to the cluster.\n",
    "import matplotlib.pyplot as plt\n",
    "plt.plot([0,1, 2, 3, 4,5,6,7,8,9], [len(clustertores[0]),len(clustertores[1]),len(clustertores[2]),len(clustertores[3]),len(clustertores[4]),len(clustertores[5]),len(clustertores[6]),len(clustertores[7]),len(clustertores[8]),len(clustertores[9])])\n",
    "plt.ylabel('# of restaurants in every cluster')\n",
    "plt.show()\n",
    "file_name = []\n",
    "for i in range(0, len(clustertores)):\n",
    "    cur = \"cluster\" + str(i)+\".json\"\n",
    "    file_name.append(cur)\n",
    "index = 0    \n",
    "for clusternum in clustertores:\n",
    "    reslist=clustertores[clusternum]\n",
    "#     outfile = open(path+'/yelp_dataset_challenge_round9'+'/out.json','w')\n",
    "    outfile = open(path+file_name[index],'w')\n",
    "    with open(path+'/training_at5.json') as f:\n",
    "        for line in f:\n",
    "            business = json.loads(line)[\"business_id\"] \n",
    "            if business in reslist:\n",
    "                outfile.write(line)\n",
    "    index += 1\n",
    "# This ends up generating seperate json files of reviews corresponding to different clusters.\n",
    "outfile = open(path+'cluster9.json','w')\n",
    "with open(path+'/training_at5.json') as f:\n",
    "    for line in f: \n",
    "        business = json.loads(line)[\"business_id\"] \n",
    "        if business in reslist:\n",
    "            outfile.write(line)"
   ]
  },
  {
   "cell_type": "code",
   "execution_count": 87,
   "metadata": {
    "collapsed": false
   },
   "outputs": [
    {
     "name": "stdout",
     "output_type": "stream",
     "text": [
      "12724\n"
     ]
    }
   ],
   "source": [
    "print len(categories)"
   ]
  },
  {
   "cell_type": "markdown",
   "metadata": {},
   "source": [
    "# Output Remark\n",
    "The restaurants would be clustered into 10 clusters according to their categories. Same restaurants may accur in several clusters since their categories may have the same words. Accodring to the clustering of the restaurants, the corresponding reviews are written into 10 json files. They are used in the next steps. However, \"restaurants\" is in the #5 cluster. Since all business categories include the word \"restaurants\", #5 cluster  "
   ]
  },
  {
   "cell_type": "code",
   "execution_count": 85,
   "metadata": {
    "collapsed": false,
    "scrolled": true
   },
   "outputs": [
    {
     "name": "stdout",
     "output_type": "stream",
     "text": [
      "|cluster #|                 business id               |\n",
      "|    0    | restaurant1 restaurant2...... restaurant9 |\n",
      "|    0    | restaurant2 restaurant5..... restaurant15 |\n",
      "|    0    | restaurant6 restaurant10.... restaurant30 |\n",
      "| ........|...........................................|\n",
      "| ........|...........................................|\n",
      "| ........|...........................................|\n",
      "| ........|...........................................|\n",
      "|    0    | restaurant10 restaurant30.. restaurant100 |\n"
     ]
    }
   ],
   "source": [
    "print '|'+'cluster #'+'|'+' '+'                '+'business id'+'               |'\n",
    "print '|'+'    '+'0'+'    '+'|'+' '+'restaurant1'+' '+'restaurant2'+'......'+' '+'restaurant9'+' '+'|'\n",
    "print '|'+'    '+'0'+'    '+'|'+' '+'restaurant2'+' '+'restaurant5'+'.....'+' '+'restaurant15'+' '+'|'\n",
    "print '|'+'    '+'0'+'    '+'|'+' '+'restaurant6'+' '+'restaurant10'+'....'+' '+'restaurant30'+' '+'|'\n",
    "print '|'+' ........'+'|'+'...........................................|'\n",
    "print '|'+' ........'+'|'+'...........................................|'\n",
    "print '|'+' ........'+'|'+'...........................................|'\n",
    "print '|'+' ........'+'|'+'...........................................|'\n",
    "print '|'+'    '+'0'+'    '+'|'+' '+'restaurant10'+' '+'restaurant30'+'..'+' '+'restaurant100'+' '+'|'"
   ]
  },
  {
   "cell_type": "markdown",
   "metadata": {},
   "source": [
    "The result turns out to hava a large RSME. In comparision to the result before clustering, the RSME becomes worse. To analyze this, the possible reason is that in every cluster, since the amount of the restaurants is reduced. So we are facing the cold start problem."
   ]
  }
 ],
 "metadata": {
  "anaconda-cloud": {},
  "kernelspec": {
   "display_name": "Python [default]",
   "language": "python",
   "name": "python2"
  },
  "language_info": {
   "codemirror_mode": {
    "name": "ipython",
    "version": 2
   },
   "file_extension": ".py",
   "mimetype": "text/x-python",
   "name": "python",
   "nbconvert_exporter": "python",
   "pygments_lexer": "ipython2",
   "version": "2.7.12"
  }
 },
 "nbformat": 4,
 "nbformat_minor": 1
}
