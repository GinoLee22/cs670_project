{
 "cells": [
  {
   "cell_type": "code",
   "execution_count": 3,
   "metadata": {
    "collapsed": false
   },
   "outputs": [],
   "source": [
    "from nltk.stem.porter import PorterStemmer\n",
    "import json\n",
    "import re\n",
    "import math\n",
    "from numpy import *\n",
    "import numpy as np\n",
    "import matplotlib.pyplot as plt"
   ]
  },
  {
   "cell_type": "markdown",
   "metadata": {},
   "source": [
    "# Data Process\n",
    "Read the training data to get the number of users and restaurants"
   ]
  },
  {
   "cell_type": "code",
   "execution_count": 4,
   "metadata": {
    "collapsed": false
   },
   "outputs": [
    {
     "name": "stdout",
     "output_type": "stream",
     "text": [
      "59890\n",
      "4262\n",
      "done\n"
     ]
    }
   ],
   "source": [
    "## objectives (2)\n",
    "## 1. get the number of users & items in training data (currently with size of 40,000)\n",
    "## 2. get Global: mu, bias_user, bias_item\n",
    "\n",
    "# get the size of user_id & business_id\n",
    "user_id = []\n",
    "business_id = []\n",
    "# with open('yelp_data/yelp_testing.json') as f:\n",
    "with open('yelp_data/alg_train.json') as f:\n",
    "    for line in f:\n",
    "        temp = json.loads(line)        \n",
    "        user_id.append(temp[\"user_id\"])\n",
    "        business_id.append(temp[\"business_id\"])\n",
    "        \n",
    "# print user_id.__len__()\n",
    "# print business_id.__len__()\n",
    "\n",
    "# This is without duplication: set\n",
    "user_id = set(user_id)\n",
    "business_id = set(business_id)\n",
    "\n",
    "print user_id.__len__()\n",
    "print business_id.__len__()\n",
    "print \"done\""
   ]
  },
  {
   "cell_type": "markdown",
   "metadata": {},
   "source": [
    "# User and Restaurant Matching\n",
    "Make \"user_id\" in the data match the index in latent factor model\n",
    "\n",
    "Do the same to \"business_id\""
   ]
  },
  {
   "cell_type": "code",
   "execution_count": 5,
   "metadata": {
    "collapsed": false
   },
   "outputs": [
    {
     "name": "stdout",
     "output_type": "stream",
     "text": [
      "done\n"
     ]
    }
   ],
   "source": [
    "user_id = list(user_id)\n",
    "user_idx = range(user_id.__len__())\n",
    "user_match = dict(zip(user_id, user_idx))\n",
    "\n",
    "business_id = list(business_id)\n",
    "business_idx = range(business_id.__len__())\n",
    "business_match= dict(zip(business_id, business_idx))\n",
    "\n",
    "print \"done\""
   ]
  },
  {
   "cell_type": "markdown",
   "metadata": {},
   "source": [
    "# Sochastic Gradient Decent training function"
   ]
  },
  {
   "cell_type": "code",
   "execution_count": 11,
   "metadata": {
    "collapsed": true
   },
   "outputs": [],
   "source": [
    "## SGD training function interface\n",
    "# inputs(10):\n",
    "# ite: number of iteration\n",
    "# lam: regulation factor: assume lam1 == lam2 == lam3 == lam4\n",
    "# mu: study rate: assume mu1 = mu2\n",
    "# k: number of concept in latent factor\n",
    "# m: number of users\n",
    "# n: number of items\n",
    "# user_match: from user_id to index i\n",
    "# business_match: from business_id to index j\n",
    "# outputs(4):\n",
    "# latent factor q & p, updated user_bias & business_bias\n",
    "def SGD_train(file_name, ite, lam, mu, k, m, n, user_match, business_match):\n",
    "    # initialization\n",
    "    q = np.random.rand(m, k) * sqrt(5.0 / k)  # normalization\n",
    "    p = np.random.rand(n, k) * sqrt(5.0 / k)\n",
    "    fig = empty(ite)\n",
    "\n",
    "    ## essential steps\n",
    "    # 1. read the file to get user_id, business_id, stars\n",
    "    # 2. find the corresponding index of user_id, business_id in q and p\n",
    "    # 3. Stochastic GD alg\n",
    "    for num in range(0, ite):\n",
    "#         print num\n",
    "        # read the file to update q & p\n",
    "        with open(file_name) as f:\n",
    "            for line in f:\n",
    "                temp = json.loads(line)\n",
    "                cur_user_id = temp[\"user_id\"]\n",
    "                cur_business_id = temp[\"business_id\"]\n",
    "                i = user_match[cur_user_id]                  # get the index of corresponding user in q\n",
    "                j = business_match[cur_business_id]          # get the index of corresponding business in p\n",
    "                star = temp[\"stars\"]\n",
    "                # updating p, q, b_x & b_i\n",
    "                eps = 2 * (star - dot(q[i, ], p[j, ]))\n",
    "                temp_q = q[i, ] + mu * (eps * p[j, ] - 2 * lam * q[i, ])\n",
    "                temp_p = p[j, ] + mu * (eps * q[i, ] - 2 * lam * p[j, ])\n",
    "                q[i, ] = temp_q\n",
    "                p[j, ] = temp_p\n",
    "    \n",
    "        # read the file to calculate the error\n",
    "#         error = 0\n",
    "#         with open(file_name) as f:\n",
    "#             for line in f:\n",
    "#                 temp = json.loads(line)\n",
    "#                 cur_user_id = temp[\"user_id\"]\n",
    "#                 cur_business_id = temp[\"business_id\"]\n",
    "#                 i = user_match[cur_user_id]\n",
    "#                 j = business_match[cur_business_id]\n",
    "#                 b_x = user_bias[cur_user_id]\n",
    "#                 b_i = business_bias[cur_business_id] \n",
    "#                 star = temp[\"stars\"]\n",
    "#                 error += (star - (average + b_x + b_i + dot(q[i, ], p[j, ]))) ** 2\n",
    "#         # add the regulation error (combine them in all)\n",
    "#         # regulation for b_x & b_i\n",
    "#         regu_user_bias = 0\n",
    "#         regu_business_bias = 0\n",
    "#         for key in user_bias:\n",
    "#             regu_user_bias += user_bias[key] ** 2\n",
    "#         for key in business_bias:\n",
    "#             regu_business_bias += business_bias[key] ** 2\n",
    "#         error += lam * (sum(q ** 2) + sum(p ** 2) + regu_user_bias + regu_business_bias)\n",
    "#         fig[num] = error        \n",
    "\n",
    "#     # examine: plot the graph \n",
    "#     plt.plot(range(0, ite), fig)\n",
    "#     plt.show()            \n",
    "#     print error             \n",
    "#     print \"done\"\n",
    "    return q, p"
   ]
  },
  {
   "cell_type": "markdown",
   "metadata": {},
   "source": [
    "# Sochastic Gradient Decent testing function"
   ]
  },
  {
   "cell_type": "code",
   "execution_count": 12,
   "metadata": {
    "collapsed": false
   },
   "outputs": [],
   "source": [
    "## SGD testing function with baseline interface\n",
    "# input(7):\n",
    "# file_name\n",
    "# q and p\n",
    "# user_match & business_match\n",
    "# average\n",
    "# output(1):\n",
    "# RMSE\n",
    "def SGD_test(file_name, q, p, user_match, business_match):\n",
    "    extrapolate_star = []\n",
    "    origin_star = []\n",
    "    size = 0\n",
    "    RMSE = 0\n",
    "    with open(file_name) as f:\n",
    "        for line in f:\n",
    "            temp = json.loads(line)\n",
    "            cur_user_id = temp[\"user_id\"]\n",
    "            cur_business_id = temp[\"business_id\"]\n",
    "            # check if current review is in the Matrix\n",
    "            if cur_user_id in user_match and cur_business_id in business_match:\n",
    "                size += 1\n",
    "                i = user_match[cur_user_id]\n",
    "                j = business_match[cur_business_id]\n",
    "                star = temp[\"stars\"]\n",
    "                RMSE += (star - dot(q[i, ], p[j, ])) ** 2\n",
    "        RMSE = sqrt(RMSE / float(size))    \n",
    "    return RMSE"
   ]
  },
  {
   "cell_type": "markdown",
   "metadata": {},
   "source": [
    "# Turing Procedure\n",
    "1. Regulation tuning lam from 0.1 to 0.9 with step 0.1 "
   ]
  },
  {
   "cell_type": "code",
   "execution_count": 17,
   "metadata": {
    "collapsed": false
   },
   "outputs": [
    {
     "name": "stdout",
     "output_type": "stream",
     "text": [
      "0.01\n",
      "1.3049932669\n",
      "0.02\n",
      "1.30741675619\n",
      "0.03\n",
      "1.30691710555\n",
      "0.04\n",
      "1.30037379564\n",
      "0.05\n",
      "1.28992721781\n",
      "0.06\n",
      "1.30207568009\n",
      "0.07\n",
      "1.29683413729\n",
      "0.08\n",
      "1.27921202999\n",
      "0.09\n",
      "1.28905947178\n"
     ]
    },
    {
     "data": {
      "image/png": "[encoded data removed]",
      "text/plain": [
       "<matplotlib.figure.Figure at 0x1137a4bd0>"
      ]
     },
     "metadata": {},
     "output_type": "display_data"
    },
    {
     "name": "stdout",
     "output_type": "stream",
     "text": [
      "done\n"
     ]
    }
   ],
   "source": [
    "## tuning parameter\n",
    "ite = 15                                  \n",
    "# lam = [(x + 1) / float(10) for x in range(0, 9)]          # for turing purpose      \n",
    "lam = [(x + 1) / float(100) for x in range(0, 9)]           # lam = 0.08\n",
    "mu = 0.005                                \n",
    "k = 20                                    \n",
    "m = user_id.__len__()                     \n",
    "n = business_id.__len__()        \n",
    "output = empty(lam.__len__())\n",
    "train_file = 'yelp_data/alg_train.json'\n",
    "test_file = 'yelp_data/alg_test.json'\n",
    "\n",
    "for cur_lam in lam:\n",
    "    # training\n",
    "    [q, p] = SGD_train(train_file, ite, cur_lam, mu, k, m, n, user_match, business_match)\n",
    "    # testing\n",
    "    RMSE = SGD_test(test_file, q, p, user_match, business_match)\n",
    "    output[lam.index(cur_lam)] = RMSE\n",
    "    print cur_lam\n",
    "    print RMSE\n",
    "\n",
    "plt.plot(lam, output)\n",
    "plt.show()                \n",
    "print \"done\"    "
   ]
  },
  {
   "cell_type": "code",
   "execution_count": null,
   "metadata": {
    "collapsed": true
   },
   "outputs": [],
   "source": []
  }
 ],
 "metadata": {
  "kernelspec": {
   "display_name": "Python 2",
   "language": "python",
   "name": "python2"
  },
  "language_info": {
   "codemirror_mode": {
    "name": "ipython",
    "version": 2
   },
   "file_extension": ".py",
   "mimetype": "text/x-python",
   "name": "python",
   "nbconvert_exporter": "python",
   "pygments_lexer": "ipython2",
   "version": "2.7.13"
  }
 },
 "nbformat": 4,
 "nbformat_minor": 2
}
