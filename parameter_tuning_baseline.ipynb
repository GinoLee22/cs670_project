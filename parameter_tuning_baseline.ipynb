{
 "cells": [
  {
   "cell_type": "code",
   "execution_count": 1,
   "metadata": {
    "collapsed": false
   },
   "outputs": [],
   "source": [
    "from nltk.stem.porter import PorterStemmer\n",
    "import json\n",
    "import re\n",
    "import math\n",
    "from numpy import *\n",
    "import numpy as np\n",
    "import matplotlib.pyplot as plt"
   ]
  },
  {
   "cell_type": "markdown",
   "metadata": {},
   "source": [
    "# Data Process\n",
    "Read the training data to get the number of users and restaurants"
   ]
  },
  {
   "cell_type": "code",
   "execution_count": 24,
   "metadata": {
    "collapsed": false
   },
   "outputs": [
    {
     "name": "stdout",
     "output_type": "stream",
     "text": [
      "255814\n",
      "22273\n",
      "12725\n",
      "done\n"
     ]
    }
   ],
   "source": [
    "## objectives (2)\n",
    "## 1. get the number of users & items in training data (currently with size of 40,000)\n",
    "## 2. get Global: mu, bias_user, bias_item\n",
    "\n",
    "# get the size of user_id & business_id\n",
    "user_id = []\n",
    "business_id = []\n",
    "# with open('yelp_data/yelp_testing.json') as f:\n",
    "with open('yelp_data/training_at5.json') as f:\n",
    "    for line in f:\n",
    "        temp = json.loads(line)        \n",
    "        user_id.append(temp[\"user_id\"])\n",
    "        business_id.append(temp[\"business_id\"])\n",
    "        \n",
    "print user_id.__len__()\n",
    "# print business_id.__len__()\n",
    "\n",
    "# This is without duplication: set\n",
    "user_id = set(user_id)\n",
    "business_id = set(business_id)\n",
    "\n",
    "print user_id.__len__()\n",
    "print business_id.__len__()\n",
    "print \"done\""
   ]
  },
  {
   "cell_type": "markdown",
   "metadata": {},
   "source": [
    "# Baseline Calculation\n",
    "Overall average named \"average\" \n",
    "\n",
    "User bias named \"origin_user_bias\"\n",
    "\n",
    "Restaurant bias named \"origin_business_bias\""
   ]
  },
  {
   "cell_type": "code",
   "execution_count": 3,
   "metadata": {
    "collapsed": false
   },
   "outputs": [
    {
     "name": "stdout",
     "output_type": "stream",
     "text": [
      "done\n"
     ]
    }
   ],
   "source": [
    "# calculate the Global bias\n",
    "# initialize the dictionary:\n",
    "#   average --> global average\n",
    "#   user_bias_list = {user_id --> a list of scores}\n",
    "#   business_bias_list = {business_id --> a list of scores}\n",
    "average = 0\n",
    "num_star = 0\n",
    "user_bias_list = {}\n",
    "origin_user_bias = {}\n",
    "business_bias_list = {}\n",
    "origin_business_bias = {}\n",
    "for value in user_id:\n",
    "    user_bias_list[value] = []\n",
    "    origin_user_bias[value] = 0\n",
    "for value in business_id:\n",
    "    business_bias_list[value] = []\n",
    "    origin_business_bias[value] = 0\n",
    "\n",
    "# adding the list\n",
    "# with open('yelp_data/alg_train.json') as f:\n",
    "with open('yelp_data/training_at5.json') as f:\n",
    "    for line in f:\n",
    "        # get the infor from file\n",
    "        temp = json.loads(line)        \n",
    "        cur_user_id = temp[\"user_id\"]\n",
    "        cur_business_id = temp[\"business_id\"]\n",
    "        star = temp[\"stars\"]\n",
    "        # filling the dictionary & calculate the average\n",
    "        average += star\n",
    "        num_star += 1\n",
    "        user_bias_list[cur_user_id].append(star)\n",
    "        business_bias_list[cur_business_id].append(star)\n",
    "\n",
    "# average\n",
    "average /= float(num_star)\n",
    "# calculate: user_bias = {user_id --> average score} & business_bias = {business_id --> average score}\n",
    "for user_key in user_bias_list:\n",
    "    b_x = sum(user_bias_list[user_key]) / float(user_bias_list[user_key].__len__()) - average\n",
    "    origin_user_bias[user_key] = b_x\n",
    "for business_key in business_bias_list:\n",
    "    b_i = sum(business_bias_list[business_key]) / float(business_bias_list[business_key].__len__()) - average\n",
    "    origin_business_bias[business_key] = b_i\n",
    "    \n",
    "print \"done\""
   ]
  },
  {
   "cell_type": "markdown",
   "metadata": {},
   "source": [
    "# User and Restaurant Matching\n",
    "Make \"user_id\" in the data match the index in latent factor model\n",
    "\n",
    "Do the same to \"business_id\""
   ]
  },
  {
   "cell_type": "code",
   "execution_count": 4,
   "metadata": {
    "collapsed": false
   },
   "outputs": [
    {
     "name": "stdout",
     "output_type": "stream",
     "text": [
      "done\n"
     ]
    }
   ],
   "source": [
    "user_id = list(user_id)\n",
    "user_idx = range(user_id.__len__())\n",
    "user_match = dict(zip(user_id, user_idx))\n",
    "\n",
    "business_id = list(business_id)\n",
    "business_idx = range(business_id.__len__())\n",
    "business_match= dict(zip(business_id, business_idx))\n",
    "\n",
    "print \"done\""
   ]
  },
  {
   "cell_type": "markdown",
   "metadata": {},
   "source": [
    "# Sochastic Gradient Decent training function with baseline score"
   ]
  },
  {
   "cell_type": "code",
   "execution_count": 5,
   "metadata": {
    "collapsed": true
   },
   "outputs": [],
   "source": [
    "## SGD training function interface\n",
    "# inputs(10):\n",
    "# ite: number of iteration\n",
    "# lam: regulation factor: assume lam1 == lam2 == lam3 == lam4\n",
    "# mu: study rate: assume mu1 = mu2\n",
    "# k: number of concept in latent factor\n",
    "# m: number of users\n",
    "# n: number of items\n",
    "# user_match: from user_id to index i\n",
    "# business_match: from business_id to index j\n",
    "# user_bias & business_bias: should equal to original user_bias & business_bias, whose values won't change\n",
    "# outputs(4):\n",
    "# latent factor q & p, updated user_bias & business_bias\n",
    "def SGD_train(file_name, ite, lam, mu, k, m, n, user_match, business_match, user_bias, business_bias, average):\n",
    "    # initialization\n",
    "    q = np.random.rand(m, k) * sqrt(5.0 / k)  # normalization\n",
    "    p = np.random.rand(n, k) * sqrt(5.0 / k)\n",
    "    fig = empty(ite)\n",
    "\n",
    "    ## essential steps\n",
    "    # 1. read the file to get user_id, business_id, stars\n",
    "    # 2. find the corresponding index of user_id, business_id in q and p\n",
    "    # 3. Stochastic GD alg\n",
    "    for num in range(0, ite):\n",
    "#         print num\n",
    "        # read the file to update q & p\n",
    "        with open(file_name) as f:\n",
    "            for line in f:\n",
    "                temp = json.loads(line)\n",
    "                cur_user_id = temp[\"user_id\"]\n",
    "                cur_business_id = temp[\"business_id\"]\n",
    "                # get initialized b_x, b_i\n",
    "                b_x = user_bias[cur_user_id]\n",
    "                b_i = business_bias[cur_business_id]\n",
    "                i = user_match[cur_user_id]                  # get the index of corresponding user in q\n",
    "                j = business_match[cur_business_id]          # get the index of corresponding business in p\n",
    "                star = temp[\"stars\"]\n",
    "                # updating p, q, b_x & b_i\n",
    "                eps = 2 * (star - (average + b_x + b_i + dot(q[i, ], p[j, ])))\n",
    "                temp_q = q[i, ] + mu * (eps * p[j, ] - 2 * lam * q[i, ])\n",
    "                temp_p = p[j, ] + mu * (eps * q[i, ] - 2 * lam * p[j, ])\n",
    "                q[i, ] = temp_q\n",
    "                p[j, ] = temp_p\n",
    "                user_bias[cur_user_id] = b_x + mu * (eps - 2 * lam * b_x)\n",
    "                business_bias[cur_business_id] = b_i + mu * (eps - 2 * lam * b_i)\n",
    "    \n",
    "        # read the file to calculate the error\n",
    "#         error = 0\n",
    "#         with open(file_name) as f:\n",
    "#             for line in f:\n",
    "#                 temp = json.loads(line)\n",
    "#                 cur_user_id = temp[\"user_id\"]\n",
    "#                 cur_business_id = temp[\"business_id\"]\n",
    "#                 i = user_match[cur_user_id]\n",
    "#                 j = business_match[cur_business_id]\n",
    "#                 b_x = user_bias[cur_user_id]\n",
    "#                 b_i = business_bias[cur_business_id] \n",
    "#                 star = temp[\"stars\"]\n",
    "#                 error += (star - (average + b_x + b_i + dot(q[i, ], p[j, ]))) ** 2\n",
    "#         # add the regulation error (combine them in all)\n",
    "#         # regulation for b_x & b_i\n",
    "#         regu_user_bias = 0\n",
    "#         regu_business_bias = 0\n",
    "#         for key in user_bias:\n",
    "#             regu_user_bias += user_bias[key] ** 2\n",
    "#         for key in business_bias:\n",
    "#             regu_business_bias += business_bias[key] ** 2\n",
    "#         error += lam * (sum(q ** 2) + sum(p ** 2) + regu_user_bias + regu_business_bias)\n",
    "#         fig[num] = error        \n",
    "\n",
    "#     # examine: plot the graph \n",
    "#     plt.plot(range(0, ite), fig)\n",
    "#     plt.show()            \n",
    "#     print error             \n",
    "#     print \"done\"\n",
    "    return q, p, user_bias, business_bias"
   ]
  },
  {
   "cell_type": "markdown",
   "metadata": {},
   "source": [
    "# Sochastic Gradient Decent testing function with baseline score"
   ]
  },
  {
   "cell_type": "code",
   "execution_count": 8,
   "metadata": {
    "collapsed": false
   },
   "outputs": [
    {
     "name": "stdout",
     "output_type": "stream",
     "text": [
      "done\n"
     ]
    }
   ],
   "source": [
    "## SGD testing function with baseline interface\n",
    "# input(7):\n",
    "# file_name\n",
    "# q and p\n",
    "# user_match & business_match\n",
    "# user_bias & business_bias\n",
    "# average\n",
    "# output(1):\n",
    "# RMSE\n",
    "def SGD_test(file_name, q, p, user_match, business_match, user_bias, business_bias, average):\n",
    "    extrapolate_star = []\n",
    "    origin_star = []\n",
    "    numOfTest = 0\n",
    "    RMSE = 0\n",
    "    with open(file_name) as f:\n",
    "        for line in f:\n",
    "            temp = json.loads(line)\n",
    "            cur_user_id = temp[\"user_id\"]\n",
    "            cur_business_id = temp[\"business_id\"]\n",
    "            # check if current review is in the Matrix\n",
    "            if cur_user_id in user_match and cur_business_id in business_match:\n",
    "                numOfTest += 1\n",
    "                i = user_match[cur_user_id]\n",
    "                j = business_match[cur_business_id]\n",
    "                star = temp[\"stars\"]\n",
    "                b_x = user_bias[cur_user_id]\n",
    "                b_i = business_bias[cur_business_id] \n",
    "                RMSE += (star - (average + b_x + b_i + dot(q[i, ], p[j, ]))) ** 2\n",
    "        print numOfTest\n",
    "        RMSE = sqrt(RMSE / float(numOfTest))    \n",
    "    return RMSE\n",
    "\n",
    "user_bias = dict(origin_user_bias)\n",
    "business_bias = dict(origin_business_bias)\n",
    "# training\n",
    "[q, p, user_bias, business_bias] = SGD_train(\n",
    "        train_file, ite, cur_lam, mu, k, m, n, user_match, business_match, user_bias, business_bias, average)\n",
    "\n",
    "print \"done\""
   ]
  },
  {
   "cell_type": "markdown",
   "metadata": {},
   "source": [
    "# Turing Procedure\n",
    "1. Regulation tuning lam from 0.3 to 0.9 with step 1.3"
   ]
  },
  {
   "cell_type": "code",
   "execution_count": 16,
   "metadata": {
    "collapsed": false
   },
   "outputs": [
    {
     "name": "stdout",
     "output_type": "stream",
     "text": [
      "31930\n",
      "0.4\n",
      "1.06755506305\n",
      "31930\n",
      "0.5\n",
      "1.06530791344\n",
      "31930\n",
      "0.6\n",
      "1.06391963729\n",
      "31930\n",
      "0.7\n",
      "1.0634501369\n",
      "31930\n",
      "0.8\n",
      "1.06347208013\n",
      "31930\n",
      "0.9\n",
      "1.06372790607\n",
      "31930\n",
      "1.0\n",
      "1.0647235224\n",
      "31930\n",
      "1.1\n",
      "1.06569745701\n",
      "31930\n",
      "1.2\n",
      "1.06664610303\n",
      "31930\n",
      "1.3\n",
      "1.06786867555\n"
     ]
    },
    {
     "data": {
      "image/png": "[encoded data removed]",
      "text/plain": [
       "<matplotlib.figure.Figure at 0x115eebfd0>"
      ]
     },
     "metadata": {},
     "output_type": "display_data"
    },
    {
     "name": "stdout",
     "output_type": "stream",
     "text": [
      "done\n"
     ]
    }
   ],
   "source": [
    "## tuning parameter\n",
    "ite = 15                                  \n",
    "lam = [(x + 1) / float(10) for x in range(3, 13)]                 \n",
    "mu = 0.005                                \n",
    "k = 20                                    \n",
    "m = user_id.__len__()                     \n",
    "n = business_id.__len__()        \n",
    "output = empty(lam.__len__())\n",
    "# train_file = 'yelp_data/alg_train.json'\n",
    "train_file = 'yelp_data/training_at5.json'\n",
    "test_file = 'yelp_data/testing_at5.json'\n",
    "\n",
    "for cur_lam in lam:\n",
    "    user_bias = dict(origin_user_bias)\n",
    "#     user_bias = origin_user_bias\n",
    "    business_bias = dict(origin_business_bias)\n",
    "#     business_bias = origin_business_bias\n",
    "    # training\n",
    "    [q, p, user_bias, business_bias] = SGD_train(\n",
    "        train_file, ite, cur_lam, mu, k, m, n, user_match, business_match, user_bias, business_bias, average)\n",
    "    # testing\n",
    "    RMSE = SGD_test(test_file, q, p, user_match, business_match, user_bias, business_bias, average)\n",
    "    output[lam.index(cur_lam)] = RMSE\n",
    "    print cur_lam\n",
    "    print RMSE\n",
    "\n",
    "plt.plot(lam, output)\n",
    "plt.show()                \n",
    "print \"done\"    "
   ]
  },
  {
   "cell_type": "code",
   "execution_count": 22,
   "metadata": {
    "collapsed": false
   },
   "outputs": [
    {
     "data": {
      "image/png": "[encoded data removed]",
      "text/plain": [
       "<matplotlib.figure.Figure at 0x119451dd0>"
      ]
     },
     "metadata": {},
     "output_type": "display_data"
    },
    {
     "data": {
      "image/png": "[encoded data removed]",
      "text/plain": [
       "<matplotlib.figure.Figure at 0x119451e10>"
      ]
     },
     "metadata": {},
     "output_type": "display_data"
    },
    {
     "data": {
      "text/plain": [
       "<matplotlib.figure.Figure at 0x11f26c150>"
      ]
     },
     "metadata": {},
     "output_type": "display_data"
    },
    {
     "name": "stdout",
     "output_type": "stream",
     "text": [
      "done\n"
     ]
    }
   ],
   "source": [
    "plt.plot(lam, output)\n",
    "plt.xlabel(\"Regularization Factor\")\n",
    "plt.ylabel('some numbers')\n",
    "# plt.show()    \n",
    "width = 12\n",
    "height = 9\n",
    "plt.figure(figsize = (width, height))\n",
    "plt.show()\n",
    "print \"done\" "
   ]
  },
  {
   "cell_type": "code",
   "execution_count": null,
   "metadata": {
    "collapsed": true
   },
   "outputs": [],
   "source": []
  }
 ],
 "metadata": {
  "kernelspec": {
   "display_name": "Python 2",
   "language": "python",
   "name": "python2"
  },
  "language_info": {
   "codemirror_mode": {
    "name": "ipython",
    "version": 2
   },
   "file_extension": ".py",
   "mimetype": "text/x-python",
   "name": "python",
   "nbconvert_exporter": "python",
   "pygments_lexer": "ipython2",
   "version": "2.7.13"
  }
 },
 "nbformat": 4,
 "nbformat_minor": 2
}
